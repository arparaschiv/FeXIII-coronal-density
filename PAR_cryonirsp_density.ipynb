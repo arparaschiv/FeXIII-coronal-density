{
 "cells": [
  {
   "cell_type": "markdown",
   "id": "2d14e1f5-2277-4cb2-9e36-ac0ca1d33c98",
   "metadata": {},
   "source": [
    "## Scripts for Automatic computing timeseries densities of DKIST Cryo-NISRP or DL-NIRSP data\n",
    "\n",
    "The dkist_dens function needs a chianti help file which is attached.\n",
    "\n",
    "These scripts are not fully functional and free of bugs or improper usage, but more of a proof of concept.\n",
    "\n",
    "Contact: Alin Paraschiv, NSO arparaschiv at nso.edu"
   ]
  },
  {
   "cell_type": "code",
   "execution_count": 1,
   "id": "dc71fcf9-1708-4648-86d5-1c32373aeeba",
   "metadata": {},
   "outputs": [],
   "source": [
    "def DKIST_DENS(i1074,i1079,chianti_path,index):\n",
    "## compute the density from two stokes I observations (full arrays) of Fe XIII assuming a ratio table provided by chianti and that the arrays are aligned properly.\n",
    "\n",
    "## - The chianti table is computed with IDL and imported via the path given to this function.\n",
    "## - Requires the observation index from one of the datasets\n",
    "## - requires the numpy, scipy interpolate and io.readsav imports ## asusmed to be loaded by the calling function\n",
    "    import numpy as np\n",
    "    from scipy.io import readsav\n",
    "    from scipy import interpolate\n",
    "\n",
    "    ## Get sizes of arrays\n",
    "    nx     = i1074.shape[0]\n",
    "    if  (len(i1074.shape) != 2 ):  \n",
    "        ny     = 1   \n",
    "        prin(\"1D-only slit data is used\")\n",
    "    else:    \n",
    "        ny     = i1074.shape[1] \n",
    "    \n",
    "    if (i1074.shape != i1079.shape):   ## sanity check for input arrays\n",
    "        print(\"Arrays are not of the same shape or not 2D. Aborting!\")\n",
    "        return np.zeros((nx,ny),dtype=np.float64)\n",
    "\n",
    "    rat_obs=i1074/i1079 #the observed intensity ratio\n",
    "\n",
    "    ## theoretical chianti ratio calculations done with IDL following instruction in the preamble\n",
    "    chia=readsav(chianti_path)\n",
    "    #chia.keys()  ##    # check the arrays\n",
    "    ##  in the save file, 'h' is an array of heights in solar radii (from 1.05 to 1.40); \n",
    "    ##  'den' is an array of density (from 5.0 to 13.0), 'rat' is a 2D array containing line ratios corresponding to different density values at different heights.\n",
    "    ##  To query the database of heights:\n",
    "    ##  print(chia.h,chia.h.shape,chia.rat.shape,chia.den.shape)\n",
    "    ##  h= [1.        1.01      1.02      1.03      1.04      1.05      1.06\n",
    "    ##      1.07      1.08      1.09      1.1       1.11      1.12      1.13\n",
    "    ##      1.14      1.15      1.16      1.17      1.18      1.19      1.2\n",
    "    ##      1.21      1.22      1.23      1.24      1.25      1.26      1.27\n",
    "    ##      1.28      1.29      1.3       1.31      1.3199999 1.3299999 1.34\n",
    "    ##      1.35      1.36      1.37      1.38      1.39      1.4       1.41\n",
    "    ##      1.42      1.43      1.44      1.45      1.46      1.47      1.48     1.49] \n",
    "    ## h is of shape [50]; den and rat are arrays of shape [50, 33] corresponding to the 50 h heights above the limb\n",
    "\n",
    "\n",
    "    density=np.zeros((nx,ny),dtype=np.float64)\n",
    "    for xx in np.arange(0,nx):\n",
    "        for yy in np.arange(0,ny):\n",
    "            if (np.isnan(rat_obs[xx,yy]) or np.isinf(rat_obs[xx,yy])):      ## discard nans and infs\n",
    "                density[xx,yy] = 0\n",
    "            else:                                                           ## main loop\n",
    "                rpos = np.sqrt((crval2+cdelt2*xx)**2+(crval3+yy*cdelt3)**2)/961\n",
    "                subh = np.argwhere(chia.h > rpos)                                                                                      ## find the corresponding height (in solar radii) for each pixel\n",
    "                #print(len(subh),rpos/rsun)                      \n",
    "                if len(subh) == 0: subh=[-1]                                                                                                ## if height is greater than maximum h (1.5R_sun) just use the 1.5R_sun corresponding ratios\n",
    "                ifunc = interpolate.interp1d(chia.rat[subh[0],:].flatten(),chia.den[subh[0],:], kind=\"quadratic\",fill_value=\"extrapolate\")  ## make the interpolation function; Quadratic as radial density drop is usually not linear\n",
    "                density[xx,yy] = ifunc(rat_obs[xx,yy])                                                                                      ## apply the interpolation to the data \n",
    "            else:                                                       ## values are \"0\" outside of the main section defined by the radiuses                                                                                  \n",
    "                rat_obs[xx,yy]=0\n",
    "                density[xx,yy]=0\n",
    "\n",
    "    return density"
   ]
  },
  {
   "cell_type": "markdown",
   "id": "f45533ed-b93f-47ba-847e-1d9f5f4d509b",
   "metadata": {},
   "source": [
    "#### Now, one would only compute the density for observation pair of Fe XIII 1074 and 1079 observations.\n",
    "\n",
    "This can of course be included in a for loop to cycle through all frames.\n",
    "Takes a couple of seconds to execute."
   ]
  },
  {
   "cell_type": "code",
   "execution_count": null,
   "id": "faf8eead-d870-4999-bbc8-1191b6f0749e",
   "metadata": {},
   "outputs": [],
   "source": [
    "\n",
    "dens_rat=COMP_DENS(stokes_i_1074,stokes_i_1079,'./chianti_v10_fe13_h50_ratio.sav',c1074_iqu['index1'])\n",
    "\n",
    "plt.figure(figsize=(18,18))\n",
    "plt.imshow(np.log10(dens_rat),vmin=7,vmax=8.5,cmap='Blues',origin='lower')\n",
    "plt.colorbar(label='Log N$_e$')"
   ]
  }
 ],
 "metadata": {
  "kernelspec": {
   "display_name": "Python 3 (ipykernel)",
   "language": "python",
   "name": "python3"
  },
  "language_info": {
   "codemirror_mode": {
    "name": "ipython",
    "version": 3
   },
   "file_extension": ".py",
   "mimetype": "text/x-python",
   "name": "python",
   "nbconvert_exporter": "python",
   "pygments_lexer": "ipython3",
   "version": "3.10.10"
  }
 },
 "nbformat": 4,
 "nbformat_minor": 5
}
